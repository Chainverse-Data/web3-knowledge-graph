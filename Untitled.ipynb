{
 "cells": [
  {
   "cell_type": "code",
   "execution_count": 1,
   "id": "462ee4f1-4b65-4a77-8661-e5fc42ec0da4",
   "metadata": {},
   "outputs": [],
   "source": [
    "import gql"
   ]
  },
  {
   "cell_type": "code",
   "execution_count": 4,
   "id": "bb10fd4e-8f5e-4f23-9993-dd3fabd7cb24",
   "metadata": {},
   "outputs": [],
   "source": [
    "import gql \n",
    "from gql.transport.aiohttp import AIOHTTPTransport, log as gql_log\n",
    "graph_api_key = \"cf69b8169829ec7c8dbaf165f38333dd\""
   ]
  },
  {
   "cell_type": "code",
   "execution_count": 5,
   "id": "ffc7ccca-32a7-42c2-a120-86f064931d6d",
   "metadata": {},
   "outputs": [],
   "source": [
    "variables = {\n",
    "                \"first\": 1000, \n",
    "                \"skip\": 0, \n",
    "                \"cutoff\": 9227851\n",
    "            }\n"
   ]
  },
  {
   "cell_type": "code",
   "execution_count": null,
   "id": "eb7c49e8-b112-4385-81a2-eef9e889c314",
   "metadata": {},
   "outputs": [],
   "source": []
  }
 ],
 "metadata": {
  "kernelspec": {
   "display_name": "Python 3",
   "language": "python",
   "name": "python3"
  },
  "language_info": {
   "codemirror_mode": {
    "name": "ipython",
    "version": 3
   },
   "file_extension": ".py",
   "mimetype": "text/x-python",
   "name": "python",
   "nbconvert_exporter": "python",
   "pygments_lexer": "ipython3",
   "version": "3.6.7"
  }
 },
 "nbformat": 4,
 "nbformat_minor": 5
}
