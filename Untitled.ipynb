{
 "cells": [
  {
   "cell_type": "code",
   "execution_count": 18,
   "id": "462ee4f1-4b65-4a77-8661-e5fc42ec0da4",
   "metadata": {},
   "outputs": [],
   "source": [
    "import gql\n",
    "from gql import gql, Client"
   ]
  },
  {
   "cell_type": "code",
   "execution_count": 1,
   "id": "bb10fd4e-8f5e-4f23-9993-dd3fabd7cb24",
   "metadata": {},
   "outputs": [],
   "source": [
    "import gql \n",
    "from gql.transport.aiohttp import AIOHTTPTransport, log as gql_log\n",
    "graph_api_key = \"cf69b8169829ec7c8dbaf165f38333dd\""
   ]
  },
  {
   "cell_type": "code",
   "execution_count": 25,
   "id": "ffc7ccca-32a7-42c2-a120-86f064931d6d",
   "metadata": {},
   "outputs": [],
   "source": [
    "url = f\"\"\"https://gateway.thegraph.com/api/{graph_api_key}/subgraphs/id/QmQXuWMr5zgDWwHtc4MzzJkkWZinTZQjGEQe5ES9BtQ5Bf\"\"\"\n"
   ]
  },
  {
   "cell_type": "code",
   "execution_count": 27,
   "id": "bac862b8-12f8-4900-a5ae-23d2626ea8f5",
   "metadata": {},
   "outputs": [],
   "source": [
    "url = \"\"\"https://api.thegraph.com/subgraphs/name/messari/gitcoin-governance\"\"\""
   ]
  },
  {
   "cell_type": "code",
   "execution_count": 28,
   "id": "eb7c49e8-b112-4385-81a2-eef9e889c314",
   "metadata": {},
   "outputs": [],
   "source": [
    "transport = AIOHTTPTransport(url=url)"
   ]
  },
  {
   "cell_type": "code",
   "execution_count": 29,
   "id": "23337908-dc26-4a02-9039-c16e180d75e9",
   "metadata": {},
   "outputs": [],
   "source": [
    "client = Client(transport=transport, fetch_schema_from_transport=False)"
   ]
  },
  {
   "cell_type": "code",
   "execution_count": 30,
   "id": "f4a9704a-5382-4356-bd1c-08f8a6d22bfd",
   "metadata": {},
   "outputs": [
    {
     "ename": "AttributeError",
     "evalue": "'function' object has no attribute 'gql'",
     "output_type": "error",
     "traceback": [
      "\u001b[0;31m---------------------------------------------------------------------------\u001b[0m",
      "\u001b[0;31mAttributeError\u001b[0m                            Traceback (most recent call last)",
      "\u001b[0;32m<ipython-input-30-433a5b74b7d1>\u001b[0m in \u001b[0;36m<module>\u001b[0;34m\u001b[0m\n\u001b[0;32m----> 1\u001b[0;31m query = gql.gql(\"\"\"\n\u001b[0m\u001b[1;32m      2\u001b[0m {\n\u001b[1;32m      3\u001b[0m     swapLights {\n\u001b[1;32m      4\u001b[0m     \u001b[0mtimestamp\u001b[0m\u001b[0;34m\u001b[0m\u001b[0;34m\u001b[0m\u001b[0m\n\u001b[1;32m      5\u001b[0m     \u001b[0;32mfrom\u001b[0m\u001b[0;34m\u001b[0m\u001b[0;34m\u001b[0m\u001b[0m\n",
      "\u001b[0;31mAttributeError\u001b[0m: 'function' object has no attribute 'gql'"
     ]
    }
   ],
   "source": [
    "query = gql.gql(\"\"\"\n",
    "{\n",
    "    delegateChanges {\n",
    "    id\n",
    "    }\n",
    "}\n",
    "\"\"\")"
   ]
  },
  {
   "cell_type": "code",
   "execution_count": 21,
   "id": "77e4a332-97ad-41e2-bfd9-2e56d5b2bb8f",
   "metadata": {},
   "outputs": [
    {
     "ename": "KeyError",
     "evalue": "0",
     "output_type": "error",
     "traceback": [
      "\u001b[0;31m---------------------------------------------------------------------------\u001b[0m",
      "\u001b[0;31mKeyError\u001b[0m                                  Traceback (most recent call last)",
      "\u001b[0;32m<ipython-input-21-34da87307bf7>\u001b[0m in \u001b[0;36masync-def-wrapper\u001b[0;34m()\u001b[0m\n",
      "\u001b[0;32m/Library/Frameworks/Python.framework/Versions/3.6/lib/python3.6/site-packages/gql/client.py\u001b[0m in \u001b[0;36mexecute_async\u001b[0;34m(self, document, variable_values, operation_name, serialize_variables, parse_result, get_execution_result, **kwargs)\u001b[0m\n\u001b[1;32m    274\u001b[0m                 \u001b[0mparse_result\u001b[0m\u001b[0;34m=\u001b[0m\u001b[0mparse_result\u001b[0m\u001b[0;34m,\u001b[0m\u001b[0;34m\u001b[0m\u001b[0;34m\u001b[0m\u001b[0m\n\u001b[1;32m    275\u001b[0m                 \u001b[0mget_execution_result\u001b[0m\u001b[0;34m=\u001b[0m\u001b[0mget_execution_result\u001b[0m\u001b[0;34m,\u001b[0m\u001b[0;34m\u001b[0m\u001b[0;34m\u001b[0m\u001b[0m\n\u001b[0;32m--> 276\u001b[0;31m                 \u001b[0;34m**\u001b[0m\u001b[0mkwargs\u001b[0m\u001b[0;34m,\u001b[0m\u001b[0;34m\u001b[0m\u001b[0;34m\u001b[0m\u001b[0m\n\u001b[0m\u001b[1;32m    277\u001b[0m             )\n\u001b[1;32m    278\u001b[0m \u001b[0;34m\u001b[0m\u001b[0m\n",
      "\u001b[0;32m/Library/Frameworks/Python.framework/Versions/3.6/lib/python3.6/site-packages/gql/client.py\u001b[0m in \u001b[0;36mexecute\u001b[0;34m(self, document, variable_values, operation_name, serialize_variables, parse_result, get_execution_result, **kwargs)\u001b[0m\n\u001b[1;32m   1170\u001b[0m         \u001b[0;32mif\u001b[0m \u001b[0mresult\u001b[0m\u001b[0;34m.\u001b[0m\u001b[0merrors\u001b[0m\u001b[0;34m:\u001b[0m\u001b[0;34m\u001b[0m\u001b[0;34m\u001b[0m\u001b[0m\n\u001b[1;32m   1171\u001b[0m             raise TransportQueryError(\n\u001b[0;32m-> 1172\u001b[0;31m                 \u001b[0mstr\u001b[0m\u001b[0;34m(\u001b[0m\u001b[0mresult\u001b[0m\u001b[0;34m.\u001b[0m\u001b[0merrors\u001b[0m\u001b[0;34m[\u001b[0m\u001b[0;36m0\u001b[0m\u001b[0;34m]\u001b[0m\u001b[0;34m)\u001b[0m\u001b[0;34m,\u001b[0m\u001b[0;34m\u001b[0m\u001b[0;34m\u001b[0m\u001b[0m\n\u001b[0m\u001b[1;32m   1173\u001b[0m                 \u001b[0merrors\u001b[0m\u001b[0;34m=\u001b[0m\u001b[0mresult\u001b[0m\u001b[0;34m.\u001b[0m\u001b[0merrors\u001b[0m\u001b[0;34m,\u001b[0m\u001b[0;34m\u001b[0m\u001b[0;34m\u001b[0m\u001b[0m\n\u001b[1;32m   1174\u001b[0m                 \u001b[0mdata\u001b[0m\u001b[0;34m=\u001b[0m\u001b[0mresult\u001b[0m\u001b[0;34m.\u001b[0m\u001b[0mdata\u001b[0m\u001b[0;34m,\u001b[0m\u001b[0;34m\u001b[0m\u001b[0;34m\u001b[0m\u001b[0m\n",
      "\u001b[0;31mKeyError\u001b[0m: 0"
     ]
    }
   ],
   "source": [
    "await client.execute_async(query)"
   ]
  }
 ],
 "metadata": {
  "kernelspec": {
   "display_name": "Python 3",
   "language": "python",
   "name": "python3"
  },
  "language_info": {
   "codemirror_mode": {
    "name": "ipython",
    "version": 3
   },
   "file_extension": ".py",
   "mimetype": "text/x-python",
   "name": "python",
   "nbconvert_exporter": "python",
   "pygments_lexer": "ipython3",
   "version": "3.6.7"
  }
 },
 "nbformat": 4,
 "nbformat_minor": 5
}
