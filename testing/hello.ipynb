{
 "cells": [
  {
   "cell_type": "code",
   "execution_count": 12,
   "metadata": {},
   "outputs": [],
   "source": [
    "from web3 import Web3\n",
    "from ens import ENS\n",
    "import pandas as pd\n"
   ]
  },
  {
   "cell_type": "code",
   "execution_count": 13,
   "metadata": {},
   "outputs": [
    {
     "name": "stderr",
     "output_type": "stream",
     "text": [
      "/Users/rohan/opt/anaconda3/envs/diamond/lib/python3.9/site-packages/ens/main.py:285: FutureWarning: The function signature for resolver() will change in v6 to accept `name` as a the positional argument, over `normal_name`, and the method will instead normalize the name internally. You may migrate to using `name` by passing it in as a keyword, e.g. resolver(name=\"ensname.eth\").\n",
      "  warnings.warn(\n"
     ]
    },
    {
     "data": {
      "text/plain": [
       "44"
      ]
     },
     "execution_count": 13,
     "metadata": {},
     "output_type": "execute_result"
    }
   ],
   "source": [
    "\n",
    "provider = \"https://eth-mainnet.alchemyapi.io/v2/\" + 'vDU8lgwuQUrLRkDZw0BumUfxW8Au27w_'\n",
    "w3 = Web3(Web3.HTTPProvider(provider))\n",
    "ns = ENS.fromWeb3(w3)\n",
    "w3.eth.getTransactionCount('rohanio.eth')\n"
   ]
  },
  {
   "cell_type": "code",
   "execution_count": null,
   "metadata": {},
   "outputs": [],
   "source": [
    "\n",
    "address = '0x6F351927b4A68D971C89E5D7C174438d52A34a60'\n",
    "address = w3.toChecksumAddress(address)\n",
    "name = ns.name(address)\n",
    "print(name)\n",
    "if address != ns.address(name):\n",
    "  name = None\n",
    "\n",
    "\n"
   ]
  },
  {
   "cell_type": "code",
   "execution_count": null,
   "metadata": {},
   "outputs": [],
   "source": [
    "\n",
    "address = '0x85ecca75f99aebc79e2a69540d95d9990c2aad2a'\n",
    "address = address.lower()\n",
    "x = w3.toChecksumAddress(address)\n",
    "\n",
    "address = '0x1234...'\n",
    "name = ns.reverse(address)\n",
    "# Check to be sure the reverse record is correct.\n",
    "if address != ns.address(name):\n",
    "  name = None"
   ]
  },
  {
   "cell_type": "code",
   "execution_count": null,
   "metadata": {},
   "outputs": [],
   "source": [
    "\n",
    "eoa_list = []\n",
    "contract_list = []\n",
    "\n",
    "# get address type (contract vs EOA)\n",
    "result = w3.eth.get_code(x).hex() \n",
    "if result == '0x':\n",
    "    eoa_list.append({'address': address})\n",
    "else:\n",
    "    contract_list.append({'address': address})\n",
    "\n",
    "print(eoa_list, contract_list)\n",
    "\n",
    "eoa_df = pd.DataFrame(eoa_list)\n",
    "eoa_df.drop_duplicates(subset=['address'], inplace=True)\n",
    "\n",
    "contract_df = pd.DataFrame(contract_list)\n",
    "contract_df.drop_duplicates(subset=['address'], inplace=True)\n",
    "\n",
    "\n",
    "def add_eoa_labels(url, conn):\n",
    "\n",
    "    wallet_node_query = f\"\"\"\n",
    "                            LOAD CSV WITH HEADERS FROM '{url}' AS wallets\n",
    "                            MATCH (w:Wallet {{address: wallets.address}})\n",
    "                            SET w:Eoa,\n",
    "                                w.lastUpdateDt = datetime(apoc.date.toISO8601(apoc.date.currentTimestamp(), 'ms'))\n",
    "                            return count(w)\n",
    "                        \"\"\"\n",
    "\n",
    "    x = conn.query(wallet_node_query)\n",
    "    print(\"Eoa Labels Addeds\", x)\n",
    "\n",
    "def add_contract_labels(url, conn):\n",
    "    wallet_node_query = f\"\"\"\n",
    "                        LOAD CSV WITH HEADERS FROM '{url}' AS wallets\n",
    "                        MATCH (w:Wallet {{address: wallets.address}})\n",
    "                        SET w:Contract,\n",
    "                            w.lastUpdateDt = datetime(apoc.date.toISO8601(apoc.date.currentTimestamp(), 'ms'))\n",
    "                        return count(w)\n",
    "                    \"\"\"\n",
    "\n",
    "    x = conn.query(wallet_node_query)\n",
    "    print(\"Contract Labels Added\", x)"
   ]
  },
  {
   "cell_type": "code",
   "execution_count": 17,
   "metadata": {},
   "outputs": [
    {
     "name": "stdout",
     "output_type": "stream",
     "text": [
      "[{'multisig': '0x85ecca75f99aebc79e2a69540d95d9990c2aad2a', 'address': '0xc75446a6adaef73269dbdece73536977b2b639e0', 'threshold': 2}, {'multisig': '0x85ecca75f99aebc79e2a69540d95d9990c2aad2a', 'address': '0x97b9958facec9acb7adb2bb72a70172cb5a0ea7c', 'threshold': 2}]\n"
     ]
    }
   ],
   "source": [
    "from gql import gql, Client\n",
    "from gql.transport.aiohttp import AIOHTTPTransport\n",
    "\n",
    "def query_gnosis_multisig(address):\n",
    "    transport = AIOHTTPTransport(url=\"https://api.thegraph.com/subgraphs/name/gjeanmart/gnosis-safe-mainnet\")\n",
    "    client = Client(transport=transport, fetch_schema_from_transport=True)\n",
    "\n",
    "    multisig_list = []\n",
    "    query = gql(f\"\"\" {{\n",
    "                        wallet(id: \"{address}\") {{\n",
    "                            id\n",
    "                            creator\n",
    "                            network\n",
    "                            stamp\n",
    "                            hash\n",
    "                            factory\n",
    "                            mastercopy\n",
    "                            owners\n",
    "                            threshold\n",
    "                            currentNonce\n",
    "                            version\n",
    "                        }}\n",
    "                    }}\"\"\")\n",
    "\n",
    "    result = client.execute(query)\n",
    "    result = result['wallet']\n",
    "    if result is not None:\n",
    "        for owner in result['owners']:\n",
    "            multisig_list.append({'multisig': address.lower(), 'address': owner.lower(), 'threshold': int(result['threshold'])})\n",
    "    \n",
    "    return multisig_list\n",
    "\n",
    "multisig_df = pd.DataFrame(multisig_list)\n",
    "multisig_df.drop_duplicates(subset=['address', 'multisig'], inplace=True)\n",
    "\n",
    "def add_multisig_labels(url, conn):\n",
    "\n",
    "    wallet_node_query = f\"\"\"\n",
    "                            LOAD CSV WITH HEADERS FROM '{url}' AS wallets\n",
    "                            MATCH (w:Wallet {{address: wallets.multisig}})\n",
    "                            SET w:MultiSig,\n",
    "                                w.lastUpdateDt = datetime(apoc.date.toISO8601(apoc.date.currentTimestamp(), 'ms'))\n",
    "                            return count(w)\n",
    "                        \"\"\"\n",
    "\n",
    "    x = conn.query(wallet_node_query)\n",
    "    print(\"MultiSig Labels Addeds\", x)"
   ]
  },
  {
   "cell_type": "code",
   "execution_count": 4,
   "metadata": {},
   "outputs": [
    {
     "data": {
      "text/plain": [
       "False"
      ]
     },
     "execution_count": 4,
     "metadata": {},
     "output_type": "execute_result"
    }
   ],
   "source": [
    "import re\n",
    "\n",
    "rex = re.compile(\"^[A-Za-z0-9_]{1,15}$\")\n",
    "bool(re.match(rex, 'optimiz3_academy'))"
   ]
  },
  {
   "cell_type": "code",
   "execution_count": 21,
   "metadata": {},
   "outputs": [
    {
     "name": "stdout",
     "output_type": "stream",
     "text": [
      "{\"ownedNfts\":[{\"contract\":{\"address\":\"0x57f1887a8bf19b14fc0df6fd9b2acc9af147ea85\"},\"id\":{\"tokenId\":\"0x14c08e39a5e2b2e43828dbe48e4d7f676b976cfd6d65f284b1a7a74537fd7079\"},\"balance\":\"1\"},{\"contract\":{\"address\":\"0x57f1887a8bf19b14fc0df6fd9b2acc9af147ea85\"},\"id\":{\"tokenId\":\"0xac6bc6428530fe6f1cd4712fc5b1b27cc5f226bb1acea0c8756bd5e467d68d68\"},\"balance\":\"1\"},{\"contract\":{\"address\":\"0x57f1887a8bf19b14fc0df6fd9b2acc9af147ea85\"},\"id\":{\"tokenId\":\"0xaeeb6b2e33e85ce021e682d5d17d2dcb16cc7d0e5afb391628c0bccce8cdb5c8\"},\"balance\":\"1\"},{\"contract\":{\"address\":\"0x57f1887a8bf19b14fc0df6fd9b2acc9af147ea85\"},\"id\":{\"tokenId\":\"0xb56f21bd5ab9ad2d47ac1effcb49cfba33d3f9f224aab5818e4515a093913a40\"},\"balance\":\"1\"}],\"totalCount\":4,\"blockHash\":\"0x1e3bd4e35c7284d7bed024079ba0828d4ebafd5f17929160a285264ceac3b519\"}\n"
     ]
    }
   ],
   "source": [
    "import requests\n",
    "\n",
    "url = \"https://eth-mainnet.g.alchemy.com/nft/v2/vDU8lgwuQUrLRkDZw0BumUfxW8Au27w_/getNFTs?owner=amphiboly.eth&contractAddresses[]=0x57f1887a8BF19b14fC0dF6Fd9B2acc9Af147eA85&withMetadata=false\"\n",
    "\n",
    "headers = {\"accept\": \"application/json\"}\n",
    "\n",
    "response = requests.get(url, headers=headers)\n",
    "\n",
    "print(response.text)"
   ]
  },
  {
   "cell_type": "code",
   "execution_count": 22,
   "metadata": {},
   "outputs": [
    {
     "data": {
      "text/plain": [
       "{'contract': {'address': '0x57f1887a8bf19b14fc0df6fd9b2acc9af147ea85'},\n",
       " 'id': {'tokenId': '0x14c08e39a5e2b2e43828dbe48e4d7f676b976cfd6d65f284b1a7a74537fd7079'},\n",
       " 'balance': '1'}"
      ]
     },
     "execution_count": 22,
     "metadata": {},
     "output_type": "execute_result"
    }
   ],
   "source": [
    "import json\n",
    "\n",
    "x = json.loads(response.text)\n",
    "\n",
    "x['ownedNfts'][0]"
   ]
  },
  {
   "cell_type": "code",
   "execution_count": 20,
   "metadata": {},
   "outputs": [
    {
     "data": {
      "text/plain": [
       "True"
      ]
     },
     "execution_count": 20,
     "metadata": {},
     "output_type": "execute_result"
    }
   ],
   "source": [
    "y = 9386473210270768446719447585399752119953056934940566112317246862703747494009\n",
    "int(x['ownedNfts'][0]['id']['tokenId'], base=16) == y"
   ]
  },
  {
   "cell_type": "code",
   "execution_count": 8,
   "metadata": {},
   "outputs": [
    {
     "ename": "ConnectionError",
     "evalue": "HTTPSConnectionPool(host='alchemy-sdk-core-example.com', port=443): Max retries exceeded with url: /vDU8lgwuQUrLRkDZw0BumUfxW8Au27w_/getNfts?owner=amphiboly.eth&contractAddresses%5B%5D=0x57f1887a8BF19b14fC0dF6Fd9B2acc9Af147eA85&omitMetadata=false (Caused by NewConnectionError('<urllib3.connection.HTTPSConnection object at 0x7f9031dd8df0>: Failed to establish a new connection: [Errno 61] Connection refused'))",
     "output_type": "error",
     "traceback": [
      "\u001b[0;31m---------------------------------------------------------------------------\u001b[0m",
      "\u001b[0;31mConnectionRefusedError\u001b[0m                    Traceback (most recent call last)",
      "\u001b[0;32m~/opt/anaconda3/envs/diamond/lib/python3.9/site-packages/urllib3/connection.py\u001b[0m in \u001b[0;36m_new_conn\u001b[0;34m(self)\u001b[0m\n\u001b[1;32m    173\u001b[0m         \u001b[0;32mtry\u001b[0m\u001b[0;34m:\u001b[0m\u001b[0;34m\u001b[0m\u001b[0;34m\u001b[0m\u001b[0m\n\u001b[0;32m--> 174\u001b[0;31m             conn = connection.create_connection(\n\u001b[0m\u001b[1;32m    175\u001b[0m                 \u001b[0;34m(\u001b[0m\u001b[0mself\u001b[0m\u001b[0;34m.\u001b[0m\u001b[0m_dns_host\u001b[0m\u001b[0;34m,\u001b[0m \u001b[0mself\u001b[0m\u001b[0;34m.\u001b[0m\u001b[0mport\u001b[0m\u001b[0;34m)\u001b[0m\u001b[0;34m,\u001b[0m \u001b[0mself\u001b[0m\u001b[0;34m.\u001b[0m\u001b[0mtimeout\u001b[0m\u001b[0;34m,\u001b[0m \u001b[0;34m**\u001b[0m\u001b[0mextra_kw\u001b[0m\u001b[0;34m\u001b[0m\u001b[0;34m\u001b[0m\u001b[0m\n",
      "\u001b[0;32m~/opt/anaconda3/envs/diamond/lib/python3.9/site-packages/urllib3/util/connection.py\u001b[0m in \u001b[0;36mcreate_connection\u001b[0;34m(address, timeout, source_address, socket_options)\u001b[0m\n\u001b[1;32m     94\u001b[0m \u001b[0;34m\u001b[0m\u001b[0m\n\u001b[0;32m---> 95\u001b[0;31m     \u001b[0;32mif\u001b[0m \u001b[0merr\u001b[0m \u001b[0;32mis\u001b[0m \u001b[0;32mnot\u001b[0m \u001b[0;32mNone\u001b[0m\u001b[0;34m:\u001b[0m\u001b[0;34m\u001b[0m\u001b[0;34m\u001b[0m\u001b[0m\n\u001b[0m\u001b[1;32m     96\u001b[0m         \u001b[0;32mraise\u001b[0m \u001b[0merr\u001b[0m\u001b[0;34m\u001b[0m\u001b[0;34m\u001b[0m\u001b[0m\n",
      "\u001b[0;32m~/opt/anaconda3/envs/diamond/lib/python3.9/site-packages/urllib3/util/connection.py\u001b[0m in \u001b[0;36mcreate_connection\u001b[0;34m(address, timeout, source_address, socket_options)\u001b[0m\n\u001b[1;32m     84\u001b[0m             \u001b[0;32mif\u001b[0m \u001b[0msource_address\u001b[0m\u001b[0;34m:\u001b[0m\u001b[0;34m\u001b[0m\u001b[0;34m\u001b[0m\u001b[0m\n\u001b[0;32m---> 85\u001b[0;31m                 \u001b[0msock\u001b[0m\u001b[0;34m.\u001b[0m\u001b[0mbind\u001b[0m\u001b[0;34m(\u001b[0m\u001b[0msource_address\u001b[0m\u001b[0;34m)\u001b[0m\u001b[0;34m\u001b[0m\u001b[0;34m\u001b[0m\u001b[0m\n\u001b[0m\u001b[1;32m     86\u001b[0m             \u001b[0msock\u001b[0m\u001b[0;34m.\u001b[0m\u001b[0mconnect\u001b[0m\u001b[0;34m(\u001b[0m\u001b[0msa\u001b[0m\u001b[0;34m)\u001b[0m\u001b[0;34m\u001b[0m\u001b[0;34m\u001b[0m\u001b[0m\n",
      "\u001b[0;31mConnectionRefusedError\u001b[0m: [Errno 61] Connection refused",
      "\nDuring handling of the above exception, another exception occurred:\n",
      "\u001b[0;31mNewConnectionError\u001b[0m                        Traceback (most recent call last)",
      "\u001b[0;32m~/opt/anaconda3/envs/diamond/lib/python3.9/site-packages/urllib3/connectionpool.py\u001b[0m in \u001b[0;36murlopen\u001b[0;34m(self, method, url, body, headers, retries, redirect, assert_same_host, timeout, pool_timeout, release_conn, chunked, body_pos, **response_kw)\u001b[0m\n\u001b[1;32m    702\u001b[0m                 \u001b[0murl\u001b[0m\u001b[0;34m,\u001b[0m\u001b[0;34m\u001b[0m\u001b[0;34m\u001b[0m\u001b[0m\n\u001b[0;32m--> 703\u001b[0;31m                 \u001b[0mtimeout\u001b[0m\u001b[0;34m=\u001b[0m\u001b[0mtimeout_obj\u001b[0m\u001b[0;34m,\u001b[0m\u001b[0;34m\u001b[0m\u001b[0;34m\u001b[0m\u001b[0m\n\u001b[0m\u001b[1;32m    704\u001b[0m                 \u001b[0mbody\u001b[0m\u001b[0;34m=\u001b[0m\u001b[0mbody\u001b[0m\u001b[0;34m,\u001b[0m\u001b[0;34m\u001b[0m\u001b[0;34m\u001b[0m\u001b[0m\n",
      "\u001b[0;32m~/opt/anaconda3/envs/diamond/lib/python3.9/site-packages/urllib3/connectionpool.py\u001b[0m in \u001b[0;36m_make_request\u001b[0;34m(self, conn, method, url, timeout, chunked, **httplib_request_kw)\u001b[0m\n\u001b[1;32m    385\u001b[0m             \u001b[0mself\u001b[0m\u001b[0;34m.\u001b[0m\u001b[0m_raise_timeout\u001b[0m\u001b[0;34m(\u001b[0m\u001b[0merr\u001b[0m\u001b[0;34m=\u001b[0m\u001b[0me\u001b[0m\u001b[0;34m,\u001b[0m \u001b[0murl\u001b[0m\u001b[0;34m=\u001b[0m\u001b[0murl\u001b[0m\u001b[0;34m,\u001b[0m \u001b[0mtimeout_value\u001b[0m\u001b[0;34m=\u001b[0m\u001b[0mconn\u001b[0m\u001b[0;34m.\u001b[0m\u001b[0mtimeout\u001b[0m\u001b[0;34m)\u001b[0m\u001b[0;34m\u001b[0m\u001b[0;34m\u001b[0m\u001b[0m\n\u001b[0;32m--> 386\u001b[0;31m             \u001b[0;32mraise\u001b[0m\u001b[0;34m\u001b[0m\u001b[0;34m\u001b[0m\u001b[0m\n\u001b[0m\u001b[1;32m    387\u001b[0m \u001b[0;34m\u001b[0m\u001b[0m\n",
      "\u001b[0;32m~/opt/anaconda3/envs/diamond/lib/python3.9/site-packages/urllib3/connectionpool.py\u001b[0m in \u001b[0;36m_validate_conn\u001b[0;34m(self, conn)\u001b[0m\n\u001b[1;32m   1039\u001b[0m     \u001b[0mThis\u001b[0m \u001b[0;32mis\u001b[0m \u001b[0ma\u001b[0m \u001b[0mshortcut\u001b[0m \u001b[0;32mfor\u001b[0m \u001b[0;32mnot\u001b[0m \u001b[0mhaving\u001b[0m \u001b[0mto\u001b[0m \u001b[0mparse\u001b[0m \u001b[0mout\u001b[0m \u001b[0mthe\u001b[0m \u001b[0mscheme\u001b[0m\u001b[0;34m,\u001b[0m \u001b[0mhost\u001b[0m\u001b[0;34m,\u001b[0m \u001b[0;32mand\u001b[0m \u001b[0mport\u001b[0m\u001b[0;34m\u001b[0m\u001b[0;34m\u001b[0m\u001b[0m\n\u001b[0;32m-> 1040\u001b[0;31m     \u001b[0mof\u001b[0m \u001b[0mthe\u001b[0m \u001b[0murl\u001b[0m \u001b[0mbefore\u001b[0m \u001b[0mcreating\u001b[0m \u001b[0man\u001b[0m \u001b[0;34m:\u001b[0m\u001b[0;32mclass\u001b[0m\u001b[0;34m:\u001b[0m\u001b[0;31m`\u001b[0m\u001b[0;34m.\u001b[0m\u001b[0mConnectionPool\u001b[0m\u001b[0;31m`\u001b[0m \u001b[0minstance\u001b[0m\u001b[0;34m.\u001b[0m\u001b[0;34m\u001b[0m\u001b[0;34m\u001b[0m\u001b[0m\n\u001b[0m\u001b[1;32m   1041\u001b[0m \u001b[0;34m\u001b[0m\u001b[0m\n",
      "\u001b[0;32m~/opt/anaconda3/envs/diamond/lib/python3.9/site-packages/urllib3/connection.py\u001b[0m in \u001b[0;36mconnect\u001b[0;34m(self)\u001b[0m\n\u001b[1;32m    357\u001b[0m         \u001b[0;31m# Add certificate verification\u001b[0m\u001b[0;34m\u001b[0m\u001b[0;34m\u001b[0m\u001b[0m\n\u001b[0;32m--> 358\u001b[0;31m         \u001b[0mconn\u001b[0m \u001b[0;34m=\u001b[0m \u001b[0mself\u001b[0m\u001b[0;34m.\u001b[0m\u001b[0m_new_conn\u001b[0m\u001b[0;34m(\u001b[0m\u001b[0;34m)\u001b[0m\u001b[0;34m\u001b[0m\u001b[0;34m\u001b[0m\u001b[0m\n\u001b[0m\u001b[1;32m    359\u001b[0m         \u001b[0mhostname\u001b[0m \u001b[0;34m=\u001b[0m \u001b[0mself\u001b[0m\u001b[0;34m.\u001b[0m\u001b[0mhost\u001b[0m\u001b[0;34m\u001b[0m\u001b[0;34m\u001b[0m\u001b[0m\n",
      "\u001b[0;32m~/opt/anaconda3/envs/diamond/lib/python3.9/site-packages/urllib3/connection.py\u001b[0m in \u001b[0;36m_new_conn\u001b[0;34m(self)\u001b[0m\n\u001b[1;32m    185\u001b[0m         \u001b[0;32mexcept\u001b[0m \u001b[0mSocketError\u001b[0m \u001b[0;32mas\u001b[0m \u001b[0me\u001b[0m\u001b[0;34m:\u001b[0m\u001b[0;34m\u001b[0m\u001b[0;34m\u001b[0m\u001b[0m\n\u001b[0;32m--> 186\u001b[0;31m             raise NewConnectionError(\n\u001b[0m\u001b[1;32m    187\u001b[0m                 \u001b[0mself\u001b[0m\u001b[0;34m,\u001b[0m \u001b[0;34m\"Failed to establish a new connection: %s\"\u001b[0m \u001b[0;34m%\u001b[0m \u001b[0me\u001b[0m\u001b[0;34m\u001b[0m\u001b[0;34m\u001b[0m\u001b[0m\n",
      "\u001b[0;31mNewConnectionError\u001b[0m: <urllib3.connection.HTTPSConnection object at 0x7f9031dd8df0>: Failed to establish a new connection: [Errno 61] Connection refused",
      "\nDuring handling of the above exception, another exception occurred:\n",
      "\u001b[0;31mMaxRetryError\u001b[0m                             Traceback (most recent call last)",
      "\u001b[0;32m~/opt/anaconda3/envs/diamond/lib/python3.9/site-packages/requests/adapters.py\u001b[0m in \u001b[0;36msend\u001b[0;34m(self, request, stream, timeout, verify, cert, proxies)\u001b[0m\n\u001b[1;32m    438\u001b[0m             \u001b[0;32mif\u001b[0m \u001b[0;32mnot\u001b[0m \u001b[0mchunked\u001b[0m\u001b[0;34m:\u001b[0m\u001b[0;34m\u001b[0m\u001b[0;34m\u001b[0m\u001b[0m\n\u001b[0;32m--> 439\u001b[0;31m                 resp = conn.urlopen(\n\u001b[0m\u001b[1;32m    440\u001b[0m                     \u001b[0mmethod\u001b[0m\u001b[0;34m=\u001b[0m\u001b[0mrequest\u001b[0m\u001b[0;34m.\u001b[0m\u001b[0mmethod\u001b[0m\u001b[0;34m,\u001b[0m\u001b[0;34m\u001b[0m\u001b[0;34m\u001b[0m\u001b[0m\n",
      "\u001b[0;32m~/opt/anaconda3/envs/diamond/lib/python3.9/site-packages/urllib3/connectionpool.py\u001b[0m in \u001b[0;36murlopen\u001b[0;34m(self, method, url, body, headers, retries, redirect, assert_same_host, timeout, pool_timeout, release_conn, chunked, body_pos, **response_kw)\u001b[0m\n\u001b[1;32m    784\u001b[0m                 \u001b[0mmethod\u001b[0m\u001b[0;34m,\u001b[0m\u001b[0;34m\u001b[0m\u001b[0;34m\u001b[0m\u001b[0m\n\u001b[0;32m--> 785\u001b[0;31m                 \u001b[0murl\u001b[0m\u001b[0;34m,\u001b[0m\u001b[0;34m\u001b[0m\u001b[0;34m\u001b[0m\u001b[0m\n\u001b[0m\u001b[1;32m    786\u001b[0m                 \u001b[0mbody\u001b[0m\u001b[0;34m,\u001b[0m\u001b[0;34m\u001b[0m\u001b[0;34m\u001b[0m\u001b[0m\n",
      "\u001b[0;32m~/opt/anaconda3/envs/diamond/lib/python3.9/site-packages/urllib3/util/retry.py\u001b[0m in \u001b[0;36mincrement\u001b[0;34m(self, method, url, response, error, _pool, _stacktrace)\u001b[0m\n\u001b[1;32m    591\u001b[0m                 \u001b[0;34m\"will be removed in v2.0. Use 'allowed_methods' instead\"\u001b[0m\u001b[0;34m,\u001b[0m\u001b[0;34m\u001b[0m\u001b[0;34m\u001b[0m\u001b[0m\n\u001b[0;32m--> 592\u001b[0;31m                 \u001b[0mDeprecationWarning\u001b[0m\u001b[0;34m,\u001b[0m\u001b[0;34m\u001b[0m\u001b[0;34m\u001b[0m\u001b[0m\n\u001b[0m\u001b[1;32m    593\u001b[0m             )\n",
      "\u001b[0;31mMaxRetryError\u001b[0m: HTTPSConnectionPool(host='alchemy-sdk-core-example.com', port=443): Max retries exceeded with url: /vDU8lgwuQUrLRkDZw0BumUfxW8Au27w_/getNfts?owner=amphiboly.eth&contractAddresses%5B%5D=0x57f1887a8BF19b14fC0dF6Fd9B2acc9Af147eA85&omitMetadata=false (Caused by NewConnectionError('<urllib3.connection.HTTPSConnection object at 0x7f9031dd8df0>: Failed to establish a new connection: [Errno 61] Connection refused'))",
      "\nDuring handling of the above exception, another exception occurred:\n",
      "\u001b[0;31mConnectionError\u001b[0m                           Traceback (most recent call last)",
      "\u001b[0;32m/var/folders/8y/2qqnx8wn6wvdqd1p8py3xr3w0000gn/T/ipykernel_48337/157524229.py\u001b[0m in \u001b[0;36m<module>\u001b[0;34m\u001b[0m\n\u001b[1;32m      6\u001b[0m \u001b[0mheaders\u001b[0m \u001b[0;34m=\u001b[0m \u001b[0;34m{\u001b[0m\u001b[0;34m\"accept\"\u001b[0m\u001b[0;34m:\u001b[0m \u001b[0;34m\"application/json\"\u001b[0m\u001b[0;34m}\u001b[0m\u001b[0;34m\u001b[0m\u001b[0;34m\u001b[0m\u001b[0m\n\u001b[1;32m      7\u001b[0m \u001b[0;34m\u001b[0m\u001b[0m\n\u001b[0;32m----> 8\u001b[0;31m \u001b[0mr\u001b[0m \u001b[0;34m=\u001b[0m \u001b[0mrequests\u001b[0m\u001b[0;34m.\u001b[0m\u001b[0mget\u001b[0m\u001b[0;34m(\u001b[0m\u001b[0murl\u001b[0m\u001b[0;34m,\u001b[0m \u001b[0mheaders\u001b[0m\u001b[0;34m=\u001b[0m\u001b[0mheaders\u001b[0m\u001b[0;34m)\u001b[0m\u001b[0;34m\u001b[0m\u001b[0;34m\u001b[0m\u001b[0m\n\u001b[0m\u001b[1;32m      9\u001b[0m \u001b[0mr\u001b[0m\u001b[0;34m.\u001b[0m\u001b[0mtext\u001b[0m\u001b[0;34m\u001b[0m\u001b[0;34m\u001b[0m\u001b[0m\n",
      "\u001b[0;32m~/opt/anaconda3/envs/diamond/lib/python3.9/site-packages/requests/api.py\u001b[0m in \u001b[0;36mget\u001b[0;34m(url, params, **kwargs)\u001b[0m\n\u001b[1;32m     73\u001b[0m     \"\"\"\n\u001b[1;32m     74\u001b[0m \u001b[0;34m\u001b[0m\u001b[0m\n\u001b[0;32m---> 75\u001b[0;31m     \u001b[0;32mreturn\u001b[0m \u001b[0mrequest\u001b[0m\u001b[0;34m(\u001b[0m\u001b[0;34m'get'\u001b[0m\u001b[0;34m,\u001b[0m \u001b[0murl\u001b[0m\u001b[0;34m,\u001b[0m \u001b[0mparams\u001b[0m\u001b[0;34m=\u001b[0m\u001b[0mparams\u001b[0m\u001b[0;34m,\u001b[0m \u001b[0;34m**\u001b[0m\u001b[0mkwargs\u001b[0m\u001b[0;34m)\u001b[0m\u001b[0;34m\u001b[0m\u001b[0;34m\u001b[0m\u001b[0m\n\u001b[0m\u001b[1;32m     76\u001b[0m \u001b[0;34m\u001b[0m\u001b[0m\n\u001b[1;32m     77\u001b[0m \u001b[0;34m\u001b[0m\u001b[0m\n",
      "\u001b[0;32m~/opt/anaconda3/envs/diamond/lib/python3.9/site-packages/requests/api.py\u001b[0m in \u001b[0;36mrequest\u001b[0;34m(method, url, **kwargs)\u001b[0m\n\u001b[1;32m     59\u001b[0m     \u001b[0;31m# cases, and look like a memory leak in others.\u001b[0m\u001b[0;34m\u001b[0m\u001b[0;34m\u001b[0m\u001b[0m\n\u001b[1;32m     60\u001b[0m     \u001b[0;32mwith\u001b[0m \u001b[0msessions\u001b[0m\u001b[0;34m.\u001b[0m\u001b[0mSession\u001b[0m\u001b[0;34m(\u001b[0m\u001b[0;34m)\u001b[0m \u001b[0;32mas\u001b[0m \u001b[0msession\u001b[0m\u001b[0;34m:\u001b[0m\u001b[0;34m\u001b[0m\u001b[0;34m\u001b[0m\u001b[0m\n\u001b[0;32m---> 61\u001b[0;31m         \u001b[0;32mreturn\u001b[0m \u001b[0msession\u001b[0m\u001b[0;34m.\u001b[0m\u001b[0mrequest\u001b[0m\u001b[0;34m(\u001b[0m\u001b[0mmethod\u001b[0m\u001b[0;34m=\u001b[0m\u001b[0mmethod\u001b[0m\u001b[0;34m,\u001b[0m \u001b[0murl\u001b[0m\u001b[0;34m=\u001b[0m\u001b[0murl\u001b[0m\u001b[0;34m,\u001b[0m \u001b[0;34m**\u001b[0m\u001b[0mkwargs\u001b[0m\u001b[0;34m)\u001b[0m\u001b[0;34m\u001b[0m\u001b[0;34m\u001b[0m\u001b[0m\n\u001b[0m\u001b[1;32m     62\u001b[0m \u001b[0;34m\u001b[0m\u001b[0m\n\u001b[1;32m     63\u001b[0m \u001b[0;34m\u001b[0m\u001b[0m\n",
      "\u001b[0;32m~/opt/anaconda3/envs/diamond/lib/python3.9/site-packages/requests/sessions.py\u001b[0m in \u001b[0;36mrequest\u001b[0;34m(self, method, url, params, data, headers, cookies, files, auth, timeout, allow_redirects, proxies, hooks, stream, verify, cert, json)\u001b[0m\n\u001b[1;32m    540\u001b[0m         }\n\u001b[1;32m    541\u001b[0m         \u001b[0msend_kwargs\u001b[0m\u001b[0;34m.\u001b[0m\u001b[0mupdate\u001b[0m\u001b[0;34m(\u001b[0m\u001b[0msettings\u001b[0m\u001b[0;34m)\u001b[0m\u001b[0;34m\u001b[0m\u001b[0;34m\u001b[0m\u001b[0m\n\u001b[0;32m--> 542\u001b[0;31m         \u001b[0mresp\u001b[0m \u001b[0;34m=\u001b[0m \u001b[0mself\u001b[0m\u001b[0;34m.\u001b[0m\u001b[0msend\u001b[0m\u001b[0;34m(\u001b[0m\u001b[0mprep\u001b[0m\u001b[0;34m,\u001b[0m \u001b[0;34m**\u001b[0m\u001b[0msend_kwargs\u001b[0m\u001b[0;34m)\u001b[0m\u001b[0;34m\u001b[0m\u001b[0;34m\u001b[0m\u001b[0m\n\u001b[0m\u001b[1;32m    543\u001b[0m \u001b[0;34m\u001b[0m\u001b[0m\n\u001b[1;32m    544\u001b[0m         \u001b[0;32mreturn\u001b[0m \u001b[0mresp\u001b[0m\u001b[0;34m\u001b[0m\u001b[0;34m\u001b[0m\u001b[0m\n",
      "\u001b[0;32m~/opt/anaconda3/envs/diamond/lib/python3.9/site-packages/requests/sessions.py\u001b[0m in \u001b[0;36msend\u001b[0;34m(self, request, **kwargs)\u001b[0m\n\u001b[1;32m    653\u001b[0m \u001b[0;34m\u001b[0m\u001b[0m\n\u001b[1;32m    654\u001b[0m         \u001b[0;31m# Send the request\u001b[0m\u001b[0;34m\u001b[0m\u001b[0;34m\u001b[0m\u001b[0m\n\u001b[0;32m--> 655\u001b[0;31m         \u001b[0mr\u001b[0m \u001b[0;34m=\u001b[0m \u001b[0madapter\u001b[0m\u001b[0;34m.\u001b[0m\u001b[0msend\u001b[0m\u001b[0;34m(\u001b[0m\u001b[0mrequest\u001b[0m\u001b[0;34m,\u001b[0m \u001b[0;34m**\u001b[0m\u001b[0mkwargs\u001b[0m\u001b[0;34m)\u001b[0m\u001b[0;34m\u001b[0m\u001b[0;34m\u001b[0m\u001b[0m\n\u001b[0m\u001b[1;32m    656\u001b[0m \u001b[0;34m\u001b[0m\u001b[0m\n\u001b[1;32m    657\u001b[0m         \u001b[0;31m# Total elapsed time of the request (approximately)\u001b[0m\u001b[0;34m\u001b[0m\u001b[0;34m\u001b[0m\u001b[0m\n",
      "\u001b[0;32m~/opt/anaconda3/envs/diamond/lib/python3.9/site-packages/requests/adapters.py\u001b[0m in \u001b[0;36msend\u001b[0;34m(self, request, stream, timeout, verify, cert, proxies)\u001b[0m\n\u001b[1;32m    514\u001b[0m                 \u001b[0;32mraise\u001b[0m \u001b[0mSSLError\u001b[0m\u001b[0;34m(\u001b[0m\u001b[0me\u001b[0m\u001b[0;34m,\u001b[0m \u001b[0mrequest\u001b[0m\u001b[0;34m=\u001b[0m\u001b[0mrequest\u001b[0m\u001b[0;34m)\u001b[0m\u001b[0;34m\u001b[0m\u001b[0;34m\u001b[0m\u001b[0m\n\u001b[1;32m    515\u001b[0m \u001b[0;34m\u001b[0m\u001b[0m\n\u001b[0;32m--> 516\u001b[0;31m             \u001b[0;32mraise\u001b[0m \u001b[0mConnectionError\u001b[0m\u001b[0;34m(\u001b[0m\u001b[0me\u001b[0m\u001b[0;34m,\u001b[0m \u001b[0mrequest\u001b[0m\u001b[0;34m=\u001b[0m\u001b[0mrequest\u001b[0m\u001b[0;34m)\u001b[0m\u001b[0;34m\u001b[0m\u001b[0;34m\u001b[0m\u001b[0m\n\u001b[0m\u001b[1;32m    517\u001b[0m \u001b[0;34m\u001b[0m\u001b[0m\n\u001b[1;32m    518\u001b[0m         \u001b[0;32mexcept\u001b[0m \u001b[0mClosedPoolError\u001b[0m \u001b[0;32mas\u001b[0m \u001b[0me\u001b[0m\u001b[0;34m:\u001b[0m\u001b[0;34m\u001b[0m\u001b[0;34m\u001b[0m\u001b[0m\n",
      "\u001b[0;31mConnectionError\u001b[0m: HTTPSConnectionPool(host='alchemy-sdk-core-example.com', port=443): Max retries exceeded with url: /vDU8lgwuQUrLRkDZw0BumUfxW8Au27w_/getNfts?owner=amphiboly.eth&contractAddresses%5B%5D=0x57f1887a8BF19b14fC0dF6Fd9B2acc9Af147eA85&omitMetadata=false (Caused by NewConnectionError('<urllib3.connection.HTTPSConnection object at 0x7f9031dd8df0>: Failed to establish a new connection: [Errno 61] Connection refused'))"
     ]
    }
   ],
   "source": [
    "url = \"https://alchemy-sdk-core-example.com/vDU8lgwuQUrLRkDZw0BumUfxW8Au27w_/getNfts?owner=amphiboly.eth&contractAddresses[]=0x57f1887a8BF19b14fC0dF6Fd9B2acc9Af147eA85&omitMetadata=false\"\n",
    "\n",
    "import requests\n",
    "import json\n",
    "\n",
    "headers = {\"accept\": \"application/json\"}\n",
    "\n",
    "r = requests.get(url, headers=headers)\n",
    "r.text\n"
   ]
  },
  {
   "cell_type": "code",
   "execution_count": 9,
   "metadata": {},
   "outputs": [
    {
     "ename": "ConnectionError",
     "evalue": "HTTPSConnectionPool(host='alchemy-sdk-core-example.com', port=443): Max retries exceeded with url: /demo/getNfts?owner=rohanio.eth&contractAddresses%5B%5D=0x57f1887a8BF19b14fC0dF6Fd9B2acc9Af147eA85&omitMetadata=false (Caused by NewConnectionError('<urllib3.connection.HTTPSConnection object at 0x7f9031db6c10>: Failed to establish a new connection: [Errno 61] Connection refused'))",
     "output_type": "error",
     "traceback": [
      "\u001b[0;31m---------------------------------------------------------------------------\u001b[0m",
      "\u001b[0;31mConnectionRefusedError\u001b[0m                    Traceback (most recent call last)",
      "\u001b[0;32m~/opt/anaconda3/envs/diamond/lib/python3.9/site-packages/urllib3/connection.py\u001b[0m in \u001b[0;36m_new_conn\u001b[0;34m(self)\u001b[0m\n\u001b[1;32m    173\u001b[0m         \u001b[0;32mtry\u001b[0m\u001b[0;34m:\u001b[0m\u001b[0;34m\u001b[0m\u001b[0;34m\u001b[0m\u001b[0m\n\u001b[0;32m--> 174\u001b[0;31m             conn = connection.create_connection(\n\u001b[0m\u001b[1;32m    175\u001b[0m                 \u001b[0;34m(\u001b[0m\u001b[0mself\u001b[0m\u001b[0;34m.\u001b[0m\u001b[0m_dns_host\u001b[0m\u001b[0;34m,\u001b[0m \u001b[0mself\u001b[0m\u001b[0;34m.\u001b[0m\u001b[0mport\u001b[0m\u001b[0;34m)\u001b[0m\u001b[0;34m,\u001b[0m \u001b[0mself\u001b[0m\u001b[0;34m.\u001b[0m\u001b[0mtimeout\u001b[0m\u001b[0;34m,\u001b[0m \u001b[0;34m**\u001b[0m\u001b[0mextra_kw\u001b[0m\u001b[0;34m\u001b[0m\u001b[0;34m\u001b[0m\u001b[0m\n",
      "\u001b[0;32m~/opt/anaconda3/envs/diamond/lib/python3.9/site-packages/urllib3/util/connection.py\u001b[0m in \u001b[0;36mcreate_connection\u001b[0;34m(address, timeout, source_address, socket_options)\u001b[0m\n\u001b[1;32m     94\u001b[0m \u001b[0;34m\u001b[0m\u001b[0m\n\u001b[0;32m---> 95\u001b[0;31m     \u001b[0;32mif\u001b[0m \u001b[0merr\u001b[0m \u001b[0;32mis\u001b[0m \u001b[0;32mnot\u001b[0m \u001b[0;32mNone\u001b[0m\u001b[0;34m:\u001b[0m\u001b[0;34m\u001b[0m\u001b[0;34m\u001b[0m\u001b[0m\n\u001b[0m\u001b[1;32m     96\u001b[0m         \u001b[0;32mraise\u001b[0m \u001b[0merr\u001b[0m\u001b[0;34m\u001b[0m\u001b[0;34m\u001b[0m\u001b[0m\n",
      "\u001b[0;32m~/opt/anaconda3/envs/diamond/lib/python3.9/site-packages/urllib3/util/connection.py\u001b[0m in \u001b[0;36mcreate_connection\u001b[0;34m(address, timeout, source_address, socket_options)\u001b[0m\n\u001b[1;32m     84\u001b[0m             \u001b[0;32mif\u001b[0m \u001b[0msource_address\u001b[0m\u001b[0;34m:\u001b[0m\u001b[0;34m\u001b[0m\u001b[0;34m\u001b[0m\u001b[0m\n\u001b[0;32m---> 85\u001b[0;31m                 \u001b[0msock\u001b[0m\u001b[0;34m.\u001b[0m\u001b[0mbind\u001b[0m\u001b[0;34m(\u001b[0m\u001b[0msource_address\u001b[0m\u001b[0;34m)\u001b[0m\u001b[0;34m\u001b[0m\u001b[0;34m\u001b[0m\u001b[0m\n\u001b[0m\u001b[1;32m     86\u001b[0m             \u001b[0msock\u001b[0m\u001b[0;34m.\u001b[0m\u001b[0mconnect\u001b[0m\u001b[0;34m(\u001b[0m\u001b[0msa\u001b[0m\u001b[0;34m)\u001b[0m\u001b[0;34m\u001b[0m\u001b[0;34m\u001b[0m\u001b[0m\n",
      "\u001b[0;31mConnectionRefusedError\u001b[0m: [Errno 61] Connection refused",
      "\nDuring handling of the above exception, another exception occurred:\n",
      "\u001b[0;31mNewConnectionError\u001b[0m                        Traceback (most recent call last)",
      "\u001b[0;32m~/opt/anaconda3/envs/diamond/lib/python3.9/site-packages/urllib3/connectionpool.py\u001b[0m in \u001b[0;36murlopen\u001b[0;34m(self, method, url, body, headers, retries, redirect, assert_same_host, timeout, pool_timeout, release_conn, chunked, body_pos, **response_kw)\u001b[0m\n\u001b[1;32m    702\u001b[0m                 \u001b[0murl\u001b[0m\u001b[0;34m,\u001b[0m\u001b[0;34m\u001b[0m\u001b[0;34m\u001b[0m\u001b[0m\n\u001b[0;32m--> 703\u001b[0;31m                 \u001b[0mtimeout\u001b[0m\u001b[0;34m=\u001b[0m\u001b[0mtimeout_obj\u001b[0m\u001b[0;34m,\u001b[0m\u001b[0;34m\u001b[0m\u001b[0;34m\u001b[0m\u001b[0m\n\u001b[0m\u001b[1;32m    704\u001b[0m                 \u001b[0mbody\u001b[0m\u001b[0;34m=\u001b[0m\u001b[0mbody\u001b[0m\u001b[0;34m,\u001b[0m\u001b[0;34m\u001b[0m\u001b[0;34m\u001b[0m\u001b[0m\n",
      "\u001b[0;32m~/opt/anaconda3/envs/diamond/lib/python3.9/site-packages/urllib3/connectionpool.py\u001b[0m in \u001b[0;36m_make_request\u001b[0;34m(self, conn, method, url, timeout, chunked, **httplib_request_kw)\u001b[0m\n\u001b[1;32m    385\u001b[0m             \u001b[0mself\u001b[0m\u001b[0;34m.\u001b[0m\u001b[0m_raise_timeout\u001b[0m\u001b[0;34m(\u001b[0m\u001b[0merr\u001b[0m\u001b[0;34m=\u001b[0m\u001b[0me\u001b[0m\u001b[0;34m,\u001b[0m \u001b[0murl\u001b[0m\u001b[0;34m=\u001b[0m\u001b[0murl\u001b[0m\u001b[0;34m,\u001b[0m \u001b[0mtimeout_value\u001b[0m\u001b[0;34m=\u001b[0m\u001b[0mconn\u001b[0m\u001b[0;34m.\u001b[0m\u001b[0mtimeout\u001b[0m\u001b[0;34m)\u001b[0m\u001b[0;34m\u001b[0m\u001b[0;34m\u001b[0m\u001b[0m\n\u001b[0;32m--> 386\u001b[0;31m             \u001b[0;32mraise\u001b[0m\u001b[0;34m\u001b[0m\u001b[0;34m\u001b[0m\u001b[0m\n\u001b[0m\u001b[1;32m    387\u001b[0m \u001b[0;34m\u001b[0m\u001b[0m\n",
      "\u001b[0;32m~/opt/anaconda3/envs/diamond/lib/python3.9/site-packages/urllib3/connectionpool.py\u001b[0m in \u001b[0;36m_validate_conn\u001b[0;34m(self, conn)\u001b[0m\n\u001b[1;32m   1039\u001b[0m     \u001b[0mThis\u001b[0m \u001b[0;32mis\u001b[0m \u001b[0ma\u001b[0m \u001b[0mshortcut\u001b[0m \u001b[0;32mfor\u001b[0m \u001b[0;32mnot\u001b[0m \u001b[0mhaving\u001b[0m \u001b[0mto\u001b[0m \u001b[0mparse\u001b[0m \u001b[0mout\u001b[0m \u001b[0mthe\u001b[0m \u001b[0mscheme\u001b[0m\u001b[0;34m,\u001b[0m \u001b[0mhost\u001b[0m\u001b[0;34m,\u001b[0m \u001b[0;32mand\u001b[0m \u001b[0mport\u001b[0m\u001b[0;34m\u001b[0m\u001b[0;34m\u001b[0m\u001b[0m\n\u001b[0;32m-> 1040\u001b[0;31m     \u001b[0mof\u001b[0m \u001b[0mthe\u001b[0m \u001b[0murl\u001b[0m \u001b[0mbefore\u001b[0m \u001b[0mcreating\u001b[0m \u001b[0man\u001b[0m \u001b[0;34m:\u001b[0m\u001b[0;32mclass\u001b[0m\u001b[0;34m:\u001b[0m\u001b[0;31m`\u001b[0m\u001b[0;34m.\u001b[0m\u001b[0mConnectionPool\u001b[0m\u001b[0;31m`\u001b[0m \u001b[0minstance\u001b[0m\u001b[0;34m.\u001b[0m\u001b[0;34m\u001b[0m\u001b[0;34m\u001b[0m\u001b[0m\n\u001b[0m\u001b[1;32m   1041\u001b[0m \u001b[0;34m\u001b[0m\u001b[0m\n",
      "\u001b[0;32m~/opt/anaconda3/envs/diamond/lib/python3.9/site-packages/urllib3/connection.py\u001b[0m in \u001b[0;36mconnect\u001b[0;34m(self)\u001b[0m\n\u001b[1;32m    357\u001b[0m         \u001b[0;31m# Add certificate verification\u001b[0m\u001b[0;34m\u001b[0m\u001b[0;34m\u001b[0m\u001b[0m\n\u001b[0;32m--> 358\u001b[0;31m         \u001b[0mconn\u001b[0m \u001b[0;34m=\u001b[0m \u001b[0mself\u001b[0m\u001b[0;34m.\u001b[0m\u001b[0m_new_conn\u001b[0m\u001b[0;34m(\u001b[0m\u001b[0;34m)\u001b[0m\u001b[0;34m\u001b[0m\u001b[0;34m\u001b[0m\u001b[0m\n\u001b[0m\u001b[1;32m    359\u001b[0m         \u001b[0mhostname\u001b[0m \u001b[0;34m=\u001b[0m \u001b[0mself\u001b[0m\u001b[0;34m.\u001b[0m\u001b[0mhost\u001b[0m\u001b[0;34m\u001b[0m\u001b[0;34m\u001b[0m\u001b[0m\n",
      "\u001b[0;32m~/opt/anaconda3/envs/diamond/lib/python3.9/site-packages/urllib3/connection.py\u001b[0m in \u001b[0;36m_new_conn\u001b[0;34m(self)\u001b[0m\n\u001b[1;32m    185\u001b[0m         \u001b[0;32mexcept\u001b[0m \u001b[0mSocketError\u001b[0m \u001b[0;32mas\u001b[0m \u001b[0me\u001b[0m\u001b[0;34m:\u001b[0m\u001b[0;34m\u001b[0m\u001b[0;34m\u001b[0m\u001b[0m\n\u001b[0;32m--> 186\u001b[0;31m             raise NewConnectionError(\n\u001b[0m\u001b[1;32m    187\u001b[0m                 \u001b[0mself\u001b[0m\u001b[0;34m,\u001b[0m \u001b[0;34m\"Failed to establish a new connection: %s\"\u001b[0m \u001b[0;34m%\u001b[0m \u001b[0me\u001b[0m\u001b[0;34m\u001b[0m\u001b[0;34m\u001b[0m\u001b[0m\n",
      "\u001b[0;31mNewConnectionError\u001b[0m: <urllib3.connection.HTTPSConnection object at 0x7f9031db6c10>: Failed to establish a new connection: [Errno 61] Connection refused",
      "\nDuring handling of the above exception, another exception occurred:\n",
      "\u001b[0;31mMaxRetryError\u001b[0m                             Traceback (most recent call last)",
      "\u001b[0;32m~/opt/anaconda3/envs/diamond/lib/python3.9/site-packages/requests/adapters.py\u001b[0m in \u001b[0;36msend\u001b[0;34m(self, request, stream, timeout, verify, cert, proxies)\u001b[0m\n\u001b[1;32m    438\u001b[0m             \u001b[0;32mif\u001b[0m \u001b[0;32mnot\u001b[0m \u001b[0mchunked\u001b[0m\u001b[0;34m:\u001b[0m\u001b[0;34m\u001b[0m\u001b[0;34m\u001b[0m\u001b[0m\n\u001b[0;32m--> 439\u001b[0;31m                 resp = conn.urlopen(\n\u001b[0m\u001b[1;32m    440\u001b[0m                     \u001b[0mmethod\u001b[0m\u001b[0;34m=\u001b[0m\u001b[0mrequest\u001b[0m\u001b[0;34m.\u001b[0m\u001b[0mmethod\u001b[0m\u001b[0;34m,\u001b[0m\u001b[0;34m\u001b[0m\u001b[0;34m\u001b[0m\u001b[0m\n",
      "\u001b[0;32m~/opt/anaconda3/envs/diamond/lib/python3.9/site-packages/urllib3/connectionpool.py\u001b[0m in \u001b[0;36murlopen\u001b[0;34m(self, method, url, body, headers, retries, redirect, assert_same_host, timeout, pool_timeout, release_conn, chunked, body_pos, **response_kw)\u001b[0m\n\u001b[1;32m    784\u001b[0m                 \u001b[0mmethod\u001b[0m\u001b[0;34m,\u001b[0m\u001b[0;34m\u001b[0m\u001b[0;34m\u001b[0m\u001b[0m\n\u001b[0;32m--> 785\u001b[0;31m                 \u001b[0murl\u001b[0m\u001b[0;34m,\u001b[0m\u001b[0;34m\u001b[0m\u001b[0;34m\u001b[0m\u001b[0m\n\u001b[0m\u001b[1;32m    786\u001b[0m                 \u001b[0mbody\u001b[0m\u001b[0;34m,\u001b[0m\u001b[0;34m\u001b[0m\u001b[0;34m\u001b[0m\u001b[0m\n",
      "\u001b[0;32m~/opt/anaconda3/envs/diamond/lib/python3.9/site-packages/urllib3/util/retry.py\u001b[0m in \u001b[0;36mincrement\u001b[0;34m(self, method, url, response, error, _pool, _stacktrace)\u001b[0m\n\u001b[1;32m    591\u001b[0m                 \u001b[0;34m\"will be removed in v2.0. Use 'allowed_methods' instead\"\u001b[0m\u001b[0;34m,\u001b[0m\u001b[0;34m\u001b[0m\u001b[0;34m\u001b[0m\u001b[0m\n\u001b[0;32m--> 592\u001b[0;31m                 \u001b[0mDeprecationWarning\u001b[0m\u001b[0;34m,\u001b[0m\u001b[0;34m\u001b[0m\u001b[0;34m\u001b[0m\u001b[0m\n\u001b[0m\u001b[1;32m    593\u001b[0m             )\n",
      "\u001b[0;31mMaxRetryError\u001b[0m: HTTPSConnectionPool(host='alchemy-sdk-core-example.com', port=443): Max retries exceeded with url: /demo/getNfts?owner=rohanio.eth&contractAddresses%5B%5D=0x57f1887a8BF19b14fC0dF6Fd9B2acc9Af147eA85&omitMetadata=false (Caused by NewConnectionError('<urllib3.connection.HTTPSConnection object at 0x7f9031db6c10>: Failed to establish a new connection: [Errno 61] Connection refused'))",
      "\nDuring handling of the above exception, another exception occurred:\n",
      "\u001b[0;31mConnectionError\u001b[0m                           Traceback (most recent call last)",
      "\u001b[0;32m/var/folders/8y/2qqnx8wn6wvdqd1p8py3xr3w0000gn/T/ipykernel_48337/56746692.py\u001b[0m in \u001b[0;36m<module>\u001b[0;34m\u001b[0m\n\u001b[1;32m      5\u001b[0m \u001b[0mheaders\u001b[0m \u001b[0;34m=\u001b[0m \u001b[0;34m{\u001b[0m\u001b[0;34m\"accept\"\u001b[0m\u001b[0;34m:\u001b[0m \u001b[0;34m\"application/json\"\u001b[0m\u001b[0;34m}\u001b[0m\u001b[0;34m\u001b[0m\u001b[0;34m\u001b[0m\u001b[0m\n\u001b[1;32m      6\u001b[0m \u001b[0;34m\u001b[0m\u001b[0m\n\u001b[0;32m----> 7\u001b[0;31m \u001b[0mresponse\u001b[0m \u001b[0;34m=\u001b[0m \u001b[0mrequests\u001b[0m\u001b[0;34m.\u001b[0m\u001b[0mget\u001b[0m\u001b[0;34m(\u001b[0m\u001b[0murl\u001b[0m\u001b[0;34m,\u001b[0m \u001b[0mheaders\u001b[0m\u001b[0;34m=\u001b[0m\u001b[0mheaders\u001b[0m\u001b[0;34m)\u001b[0m\u001b[0;34m\u001b[0m\u001b[0;34m\u001b[0m\u001b[0m\n\u001b[0m\u001b[1;32m      8\u001b[0m \u001b[0;34m\u001b[0m\u001b[0m\n\u001b[1;32m      9\u001b[0m \u001b[0mprint\u001b[0m\u001b[0;34m(\u001b[0m\u001b[0mresponse\u001b[0m\u001b[0;34m.\u001b[0m\u001b[0mtext\u001b[0m\u001b[0;34m)\u001b[0m\u001b[0;34m\u001b[0m\u001b[0;34m\u001b[0m\u001b[0m\n",
      "\u001b[0;32m~/opt/anaconda3/envs/diamond/lib/python3.9/site-packages/requests/api.py\u001b[0m in \u001b[0;36mget\u001b[0;34m(url, params, **kwargs)\u001b[0m\n\u001b[1;32m     73\u001b[0m     \"\"\"\n\u001b[1;32m     74\u001b[0m \u001b[0;34m\u001b[0m\u001b[0m\n\u001b[0;32m---> 75\u001b[0;31m     \u001b[0;32mreturn\u001b[0m \u001b[0mrequest\u001b[0m\u001b[0;34m(\u001b[0m\u001b[0;34m'get'\u001b[0m\u001b[0;34m,\u001b[0m \u001b[0murl\u001b[0m\u001b[0;34m,\u001b[0m \u001b[0mparams\u001b[0m\u001b[0;34m=\u001b[0m\u001b[0mparams\u001b[0m\u001b[0;34m,\u001b[0m \u001b[0;34m**\u001b[0m\u001b[0mkwargs\u001b[0m\u001b[0;34m)\u001b[0m\u001b[0;34m\u001b[0m\u001b[0;34m\u001b[0m\u001b[0m\n\u001b[0m\u001b[1;32m     76\u001b[0m \u001b[0;34m\u001b[0m\u001b[0m\n\u001b[1;32m     77\u001b[0m \u001b[0;34m\u001b[0m\u001b[0m\n",
      "\u001b[0;32m~/opt/anaconda3/envs/diamond/lib/python3.9/site-packages/requests/api.py\u001b[0m in \u001b[0;36mrequest\u001b[0;34m(method, url, **kwargs)\u001b[0m\n\u001b[1;32m     59\u001b[0m     \u001b[0;31m# cases, and look like a memory leak in others.\u001b[0m\u001b[0;34m\u001b[0m\u001b[0;34m\u001b[0m\u001b[0m\n\u001b[1;32m     60\u001b[0m     \u001b[0;32mwith\u001b[0m \u001b[0msessions\u001b[0m\u001b[0;34m.\u001b[0m\u001b[0mSession\u001b[0m\u001b[0;34m(\u001b[0m\u001b[0;34m)\u001b[0m \u001b[0;32mas\u001b[0m \u001b[0msession\u001b[0m\u001b[0;34m:\u001b[0m\u001b[0;34m\u001b[0m\u001b[0;34m\u001b[0m\u001b[0m\n\u001b[0;32m---> 61\u001b[0;31m         \u001b[0;32mreturn\u001b[0m \u001b[0msession\u001b[0m\u001b[0;34m.\u001b[0m\u001b[0mrequest\u001b[0m\u001b[0;34m(\u001b[0m\u001b[0mmethod\u001b[0m\u001b[0;34m=\u001b[0m\u001b[0mmethod\u001b[0m\u001b[0;34m,\u001b[0m \u001b[0murl\u001b[0m\u001b[0;34m=\u001b[0m\u001b[0murl\u001b[0m\u001b[0;34m,\u001b[0m \u001b[0;34m**\u001b[0m\u001b[0mkwargs\u001b[0m\u001b[0;34m)\u001b[0m\u001b[0;34m\u001b[0m\u001b[0;34m\u001b[0m\u001b[0m\n\u001b[0m\u001b[1;32m     62\u001b[0m \u001b[0;34m\u001b[0m\u001b[0m\n\u001b[1;32m     63\u001b[0m \u001b[0;34m\u001b[0m\u001b[0m\n",
      "\u001b[0;32m~/opt/anaconda3/envs/diamond/lib/python3.9/site-packages/requests/sessions.py\u001b[0m in \u001b[0;36mrequest\u001b[0;34m(self, method, url, params, data, headers, cookies, files, auth, timeout, allow_redirects, proxies, hooks, stream, verify, cert, json)\u001b[0m\n\u001b[1;32m    540\u001b[0m         }\n\u001b[1;32m    541\u001b[0m         \u001b[0msend_kwargs\u001b[0m\u001b[0;34m.\u001b[0m\u001b[0mupdate\u001b[0m\u001b[0;34m(\u001b[0m\u001b[0msettings\u001b[0m\u001b[0;34m)\u001b[0m\u001b[0;34m\u001b[0m\u001b[0;34m\u001b[0m\u001b[0m\n\u001b[0;32m--> 542\u001b[0;31m         \u001b[0mresp\u001b[0m \u001b[0;34m=\u001b[0m \u001b[0mself\u001b[0m\u001b[0;34m.\u001b[0m\u001b[0msend\u001b[0m\u001b[0;34m(\u001b[0m\u001b[0mprep\u001b[0m\u001b[0;34m,\u001b[0m \u001b[0;34m**\u001b[0m\u001b[0msend_kwargs\u001b[0m\u001b[0;34m)\u001b[0m\u001b[0;34m\u001b[0m\u001b[0;34m\u001b[0m\u001b[0m\n\u001b[0m\u001b[1;32m    543\u001b[0m \u001b[0;34m\u001b[0m\u001b[0m\n\u001b[1;32m    544\u001b[0m         \u001b[0;32mreturn\u001b[0m \u001b[0mresp\u001b[0m\u001b[0;34m\u001b[0m\u001b[0;34m\u001b[0m\u001b[0m\n",
      "\u001b[0;32m~/opt/anaconda3/envs/diamond/lib/python3.9/site-packages/requests/sessions.py\u001b[0m in \u001b[0;36msend\u001b[0;34m(self, request, **kwargs)\u001b[0m\n\u001b[1;32m    653\u001b[0m \u001b[0;34m\u001b[0m\u001b[0m\n\u001b[1;32m    654\u001b[0m         \u001b[0;31m# Send the request\u001b[0m\u001b[0;34m\u001b[0m\u001b[0;34m\u001b[0m\u001b[0m\n\u001b[0;32m--> 655\u001b[0;31m         \u001b[0mr\u001b[0m \u001b[0;34m=\u001b[0m \u001b[0madapter\u001b[0m\u001b[0;34m.\u001b[0m\u001b[0msend\u001b[0m\u001b[0;34m(\u001b[0m\u001b[0mrequest\u001b[0m\u001b[0;34m,\u001b[0m \u001b[0;34m**\u001b[0m\u001b[0mkwargs\u001b[0m\u001b[0;34m)\u001b[0m\u001b[0;34m\u001b[0m\u001b[0;34m\u001b[0m\u001b[0m\n\u001b[0m\u001b[1;32m    656\u001b[0m \u001b[0;34m\u001b[0m\u001b[0m\n\u001b[1;32m    657\u001b[0m         \u001b[0;31m# Total elapsed time of the request (approximately)\u001b[0m\u001b[0;34m\u001b[0m\u001b[0;34m\u001b[0m\u001b[0m\n",
      "\u001b[0;32m~/opt/anaconda3/envs/diamond/lib/python3.9/site-packages/requests/adapters.py\u001b[0m in \u001b[0;36msend\u001b[0;34m(self, request, stream, timeout, verify, cert, proxies)\u001b[0m\n\u001b[1;32m    514\u001b[0m                 \u001b[0;32mraise\u001b[0m \u001b[0mSSLError\u001b[0m\u001b[0;34m(\u001b[0m\u001b[0me\u001b[0m\u001b[0;34m,\u001b[0m \u001b[0mrequest\u001b[0m\u001b[0;34m=\u001b[0m\u001b[0mrequest\u001b[0m\u001b[0;34m)\u001b[0m\u001b[0;34m\u001b[0m\u001b[0;34m\u001b[0m\u001b[0m\n\u001b[1;32m    515\u001b[0m \u001b[0;34m\u001b[0m\u001b[0m\n\u001b[0;32m--> 516\u001b[0;31m             \u001b[0;32mraise\u001b[0m \u001b[0mConnectionError\u001b[0m\u001b[0;34m(\u001b[0m\u001b[0me\u001b[0m\u001b[0;34m,\u001b[0m \u001b[0mrequest\u001b[0m\u001b[0;34m=\u001b[0m\u001b[0mrequest\u001b[0m\u001b[0;34m)\u001b[0m\u001b[0;34m\u001b[0m\u001b[0;34m\u001b[0m\u001b[0m\n\u001b[0m\u001b[1;32m    517\u001b[0m \u001b[0;34m\u001b[0m\u001b[0m\n\u001b[1;32m    518\u001b[0m         \u001b[0;32mexcept\u001b[0m \u001b[0mClosedPoolError\u001b[0m \u001b[0;32mas\u001b[0m \u001b[0me\u001b[0m\u001b[0;34m:\u001b[0m\u001b[0;34m\u001b[0m\u001b[0;34m\u001b[0m\u001b[0m\n",
      "\u001b[0;31mConnectionError\u001b[0m: HTTPSConnectionPool(host='alchemy-sdk-core-example.com', port=443): Max retries exceeded with url: /demo/getNfts?owner=rohanio.eth&contractAddresses%5B%5D=0x57f1887a8BF19b14fC0dF6Fd9B2acc9Af147eA85&omitMetadata=false (Caused by NewConnectionError('<urllib3.connection.HTTPSConnection object at 0x7f9031db6c10>: Failed to establish a new connection: [Errno 61] Connection refused'))"
     ]
    }
   ],
   "source": [
    "import requests\n",
    "\n",
    "url = \"https://alchemy-sdk-core-example.com/demo/getNfts?owner=rohanio.eth&contractAddresses[]=0x57f1887a8BF19b14fC0dF6Fd9B2acc9Af147eA85&omitMetadata=false\"\n",
    "\n",
    "headers = {\"accept\": \"application/json\"}\n",
    "\n",
    "response = requests.get(url, headers=headers)\n",
    "\n",
    "print(response.text)"
   ]
  },
  {
   "cell_type": "code",
   "execution_count": 35,
   "metadata": {},
   "outputs": [
    {
     "name": "stdout",
     "output_type": "stream",
     "text": [
      "0xc2e6701d7b8b836deeeb28e32fa2fb74bc77d0453d3de5323d694\n"
     ]
    }
   ],
   "source": [
    "import rlp\n",
    "\n",
    "print(hex(int(str(w3.toInt(w3.keccak(rlp.encode([w3.toChecksumAddress('0xA73dB69EA64315c44C970245C1f30A7bc765A7D0'), 557]))))[12:])))"
   ]
  },
  {
   "cell_type": "code",
   "execution_count": 9,
   "metadata": {},
   "outputs": [],
   "source": [
    "from Crypto.Hash import keccak\n",
    "from rlp.utils import decode_hex, encode_hex\n",
    "import rlp\n",
    "sha3_256 = lambda x: keccak.new(digest_bits=256, data=x).digest()\n",
    "\n",
    "def to_string(value):\n",
    "    if isinstance(value, bytes):\n",
    "        return value\n",
    "    if isinstance(value, str):\n",
    "        return bytes(value, 'utf-8')\n",
    "    if isinstance(value, int):\n",
    "        return bytes(str(value), 'utf-8')\n",
    "\n",
    "def sha3(seed):\n",
    "    return sha3_256(to_string(seed))\n",
    "\n",
    "def normalize_address(x, allow_blank=False):\n",
    "    if allow_blank and x == '':\n",
    "        return ''\n",
    "    if len(x) in (42, 50) and x[:2] == '0x':\n",
    "        x = x[2:]\n",
    "    if len(x) in (40, 48):\n",
    "        x = decode_hex(x)\n",
    "    if len(x) == 24:\n",
    "        assert len(x) == 24 and sha3(x[:20])[:4] == x[-4:]\n",
    "        x = x[:20]\n",
    "    if len(x) != 20:\n",
    "        raise Exception(\"Invalid address format: %r\" % x)\n",
    "    return x\n",
    "\n",
    "def mk_contract_address(sender, nonce):\n",
    "    return sha3(rlp.encode([normalize_address(sender), nonce]))[12:]"
   ]
  },
  {
   "cell_type": "code",
   "execution_count": 14,
   "metadata": {},
   "outputs": [],
   "source": [
    "x = '0x' + encode_hex(mk_contract_address('0xA73dB69EA64315c44C970245C1f30A7bc765A7D0', 557))"
   ]
  },
  {
   "cell_type": "code",
   "execution_count": 18,
   "metadata": {},
   "outputs": [
    {
     "data": {
      "text/plain": [
       "'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'"
      ]
     },
     "execution_count": 18,
     "metadata": {},
     "output_type": "execute_result"
    }
   ],
   "source": [
    "w3.eth.getCode(Web3.toChecksumAddress(x)).hex()"
   ]
  },
  {
   "cell_type": "code",
   "execution_count": 19,
   "metadata": {},
   "outputs": [
    {
     "data": {
      "text/plain": [
       "'0x'"
      ]
     },
     "execution_count": 19,
     "metadata": {},
     "output_type": "execute_result"
    }
   ],
   "source": [
    "w3.eth.getCode(Web3.toChecksumAddress('0x4BB9E7D221fC35234a08cCdcb38D47D53Fb1973e')).hex()"
   ]
  },
  {
   "cell_type": "code",
   "execution_count": 113,
   "metadata": {},
   "outputs": [],
   "source": [
    "import pandas as pd\n",
    "import numpy as np\n",
    "\n",
    "lol = [{'school_id': 1, 'state_code': '!@sc_1', 'subjects': \"english maths chemistry\"},\n",
    "{'school_id': 2, 'state_code': '))sc_2', 'subjects': \"english physics chemistry\"},\n",
    "{'school_id': 3, 'state_code': '!@sc_2', 'subjects': \"maths biology\"},\n",
    "{'school_id': 4, 'state_code': 'sc_2)_', 'subjects': \"french\"},\n",
    "{'school_id': 5, 'state_code': 'sc_1#@', 'subjects': \"social_studies maths literature\"},\n",
    "{'school_id': 6, 'state_code': 'sc_10#@', 'subjects': \"english  maths history\"}]\n",
    "\n",
    "df = pd.DataFrame(lol)\n",
    "\n"
   ]
  },
  {
   "cell_type": "code",
   "execution_count": 114,
   "metadata": {},
   "outputs": [],
   "source": [
    "\n",
    "sub_count = lambda x: len(x.split())\n",
    "df = df[df['subjects'].apply(sub_count) >= 3]\n",
    "\n",
    "del_chars = ''.join(c for c in map(chr, range(1114111)) if not c.isalnum())\n",
    "del_map = str.maketrans('', '', del_chars)\n",
    "alpha = lambda x: x.translate(del_map)\n",
    "df.loc[:, 'state_code'] = df['state_code'].apply(alpha)\n",
    "\n",
    "subjects = lambda x: x.split()\n",
    "df.loc[:, 'subjects'] = df['subjects'].apply(subjects)\n",
    "\n",
    "df = df.explode('subjects')\n",
    "df = df[df['subjects'].isin(['english', 'maths', 'physics', 'chemistry'])]\n",
    "df.drop(columns=['school_id'], inplace=True)\n",
    "\n",
    "df = df.groupby(['state_code', 'subjects'])['subjects'].count().reset_index(name=\"count\")\n",
    "df = df.pivot(index='state_code', columns='subjects').reset_index()\n",
    "df.columns = df.columns.droplevel(0)\n",
    "df.rename(columns={'':'state_code'}, inplace=True)\n",
    "df = df.rename_axis(None, axis=1)\n",
    "df = df.fillna(0.0)\n",
    "m = df.select_dtypes(np.number)\n",
    "df[m.columns]= m.round().astype('Int64')\n",
    "\n",
    "df.columns = ['state_code', 'english', 'maths', 'physics', 'chemistry']\n",
    "df = df.sort_values(by=['state_code'], ascending=True)"
   ]
  },
  {
   "cell_type": "code",
   "execution_count": 115,
   "metadata": {},
   "outputs": [
    {
     "data": {
      "text/html": [
       "<div>\n",
       "<style scoped>\n",
       "    .dataframe tbody tr th:only-of-type {\n",
       "        vertical-align: middle;\n",
       "    }\n",
       "\n",
       "    .dataframe tbody tr th {\n",
       "        vertical-align: top;\n",
       "    }\n",
       "\n",
       "    .dataframe thead th {\n",
       "        text-align: right;\n",
       "    }\n",
       "</style>\n",
       "<table border=\"1\" class=\"dataframe\">\n",
       "  <thead>\n",
       "    <tr style=\"text-align: right;\">\n",
       "      <th></th>\n",
       "      <th>state_code</th>\n",
       "      <th>english</th>\n",
       "      <th>maths</th>\n",
       "      <th>physics</th>\n",
       "      <th>chemistry</th>\n",
       "    </tr>\n",
       "  </thead>\n",
       "  <tbody>\n",
       "    <tr>\n",
       "      <th>0</th>\n",
       "      <td>sc1</td>\n",
       "      <td>1</td>\n",
       "      <td>1</td>\n",
       "      <td>2</td>\n",
       "      <td>0</td>\n",
       "    </tr>\n",
       "    <tr>\n",
       "      <th>1</th>\n",
       "      <td>sc10</td>\n",
       "      <td>0</td>\n",
       "      <td>1</td>\n",
       "      <td>1</td>\n",
       "      <td>0</td>\n",
       "    </tr>\n",
       "    <tr>\n",
       "      <th>2</th>\n",
       "      <td>sc2</td>\n",
       "      <td>1</td>\n",
       "      <td>1</td>\n",
       "      <td>0</td>\n",
       "      <td>1</td>\n",
       "    </tr>\n",
       "  </tbody>\n",
       "</table>\n",
       "</div>"
      ],
      "text/plain": [
       "  state_code  english  maths  physics  chemistry\n",
       "0        sc1        1      1        2          0\n",
       "1       sc10        0      1        1          0\n",
       "2        sc2        1      1        0          1"
      ]
     },
     "execution_count": 115,
     "metadata": {},
     "output_type": "execute_result"
    }
   ],
   "source": [
    "df"
   ]
  }
 ],
 "metadata": {
  "kernelspec": {
   "display_name": "Python 3.9.7 ('diamond')",
   "language": "python",
   "name": "python3"
  },
  "language_info": {
   "codemirror_mode": {
    "name": "ipython",
    "version": 3
   },
   "file_extension": ".py",
   "mimetype": "text/x-python",
   "name": "python",
   "nbconvert_exporter": "python",
   "pygments_lexer": "ipython3",
   "version": "3.9.7"
  },
  "orig_nbformat": 4,
  "vscode": {
   "interpreter": {
    "hash": "e06a1096953c92ae0b55c9bcbb4d7ac1cc050726990f16cd72c4b92862418a6f"
   }
  }
 },
 "nbformat": 4,
 "nbformat_minor": 2
}
