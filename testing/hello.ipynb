{
 "cells": [
  {
   "cell_type": "code",
   "execution_count": 4,
   "metadata": {},
   "outputs": [
    {
     "name": "stdout",
     "output_type": "stream",
     "text": [
      "rohanio.eth\n"
     ]
    }
   ],
   "source": [
    "from web3 import Web3\n",
    "from ens import ENS\n",
    "import pandas as pd\n",
    "\n",
    "provider = \"https://eth-mainnet.alchemyapi.io/v2/\" \n",
    "w3 = Web3(Web3.HTTPProvider(provider))\n",
    "ns = ENS.fromWeb3(w3)\n",
    "\n",
    "address = '0x4BB9E7D221fC35234a08cCdcb38D47D53Fb1973e'\n",
    "address = w3.toChecksumAddress(address)\n",
    "name = ns.name(address)\n",
    "if address != ns.address(name):\n",
    "  name = None\n",
    "\n",
    "\n"
   ]
  },
  {
   "cell_type": "code",
   "execution_count": null,
   "metadata": {},
   "outputs": [],
   "source": [
    "\n",
    "address = '0x85ecca75f99aebc79e2a69540d95d9990c2aad2a'\n",
    "address = address.lower()\n",
    "x = w3.toChecksumAddress(address)\n",
    "\n",
    "address = '0x1234...'\n",
    "name = ns.reverse(address)\n",
    "# Check to be sure the reverse record is correct.\n",
    "if address != ns.address(name):\n",
    "  name = None"
   ]
  },
  {
   "cell_type": "code",
   "execution_count": null,
   "metadata": {},
   "outputs": [],
   "source": [
    "\n",
    "eoa_list = []\n",
    "contract_list = []\n",
    "\n",
    "# get address type (contract vs EOA)\n",
    "result = w3.eth.get_code(x).hex() \n",
    "if result == '0x':\n",
    "    eoa_list.append({'address': address})\n",
    "else:\n",
    "    contract_list.append({'address': address})\n",
    "\n",
    "print(eoa_list, contract_list)\n",
    "\n",
    "eoa_df = pd.DataFrame(eoa_list)\n",
    "eoa_df.drop_duplicates(subset=['address'], inplace=True)\n",
    "\n",
    "contract_df = pd.DataFrame(contract_list)\n",
    "contract_df.drop_duplicates(subset=['address'], inplace=True)\n",
    "\n",
    "\n",
    "def add_eoa_labels(url, conn):\n",
    "\n",
    "    wallet_node_query = f\"\"\"\n",
    "                            LOAD CSV WITH HEADERS FROM '{url}' AS wallets\n",
    "                            MATCH (w:Wallet {{address: wallets.address}})\n",
    "                            SET w:Eoa,\n",
    "                                w.lastUpdateDt = datetime(apoc.date.toISO8601(apoc.date.currentTimestamp(), 'ms'))\n",
    "                            return count(w)\n",
    "                        \"\"\"\n",
    "\n",
    "    x = conn.query(wallet_node_query)\n",
    "    print(\"Eoa Labels Addeds\", x)\n",
    "\n",
    "def add_contract_labels(url, conn):\n",
    "    wallet_node_query = f\"\"\"\n",
    "                        LOAD CSV WITH HEADERS FROM '{url}' AS wallets\n",
    "                        MATCH (w:Wallet {{address: wallets.address}})\n",
    "                        SET w:Contract,\n",
    "                            w.lastUpdateDt = datetime(apoc.date.toISO8601(apoc.date.currentTimestamp(), 'ms'))\n",
    "                        return count(w)\n",
    "                    \"\"\"\n",
    "\n",
    "    x = conn.query(wallet_node_query)\n",
    "    print(\"Contract Labels Added\", x)"
   ]
  },
  {
   "cell_type": "code",
   "execution_count": 17,
   "metadata": {},
   "outputs": [
    {
     "name": "stdout",
     "output_type": "stream",
     "text": [
      "[{'multisig': '0x85ecca75f99aebc79e2a69540d95d9990c2aad2a', 'address': '0xc75446a6adaef73269dbdece73536977b2b639e0', 'threshold': 2}, {'multisig': '0x85ecca75f99aebc79e2a69540d95d9990c2aad2a', 'address': '0x97b9958facec9acb7adb2bb72a70172cb5a0ea7c', 'threshold': 2}]\n"
     ]
    }
   ],
   "source": [
    "from gql import gql, Client\n",
    "from gql.transport.aiohttp import AIOHTTPTransport\n",
    "\n",
    "def query_gnosis_multisig(address):\n",
    "    transport = AIOHTTPTransport(url=\"https://api.thegraph.com/subgraphs/name/gjeanmart/gnosis-safe-mainnet\")\n",
    "    client = Client(transport=transport, fetch_schema_from_transport=True)\n",
    "\n",
    "    multisig_list = []\n",
    "    query = gql(f\"\"\" {{\n",
    "                        wallet(id: \"{address}\") {{\n",
    "                            id\n",
    "                            creator\n",
    "                            network\n",
    "                            stamp\n",
    "                            hash\n",
    "                            factory\n",
    "                            mastercopy\n",
    "                            owners\n",
    "                            threshold\n",
    "                            currentNonce\n",
    "                            version\n",
    "                        }}\n",
    "                    }}\"\"\")\n",
    "\n",
    "    result = client.execute(query)\n",
    "    result = result['wallet']\n",
    "    if result is not None:\n",
    "        for owner in result['owners']:\n",
    "            multisig_list.append({'multisig': address.lower(), 'address': owner.lower(), 'threshold': int(result['threshold'])})\n",
    "    \n",
    "    return multisig_list\n",
    "\n",
    "multisig_df = pd.DataFrame(multisig_list)\n",
    "multisig_df.drop_duplicates(subset=['address', 'multisig'], inplace=True)\n",
    "\n",
    "def add_multisig_labels(url, conn):\n",
    "\n",
    "    wallet_node_query = f\"\"\"\n",
    "                            LOAD CSV WITH HEADERS FROM '{url}' AS wallets\n",
    "                            MATCH (w:Wallet {{address: wallets.multisig}})\n",
    "                            SET w:MultiSig,\n",
    "                                w.lastUpdateDt = datetime(apoc.date.toISO8601(apoc.date.currentTimestamp(), 'ms'))\n",
    "                            return count(w)\n",
    "                        \"\"\"\n",
    "\n",
    "    x = conn.query(wallet_node_query)\n",
    "    print(\"MultiSig Labels Addeds\", x)"
   ]
  },
  {
   "cell_type": "code",
   "execution_count": 4,
   "metadata": {},
   "outputs": [
    {
     "data": {
      "text/plain": [
       "False"
      ]
     },
     "execution_count": 4,
     "metadata": {},
     "output_type": "execute_result"
    }
   ],
   "source": [
    "import re\n",
    "\n",
    "rex = re.compile(\"^[A-Za-z0-9_]{1,15}$\")\n",
    "bool(re.match(rex, 'optimiz3_academy'))"
   ]
  },
  {
   "cell_type": "code",
   "execution_count": 5,
   "metadata": {},
   "outputs": [
    {
     "data": {
      "text/plain": [
       "True"
      ]
     },
     "execution_count": 5,
     "metadata": {},
     "output_type": "execute_result"
    }
   ],
   "source": [
    "x = {'cryptojobslist', '0xchanoirs', 'bgervillan', 'openquill', 'salomoncrypto', 'eosfoundationcn', 'secondlivereal', 'jrhennessy', 'nayafia', 'lightdotso', 'realcoinunited', 'hong04103', 'superogers1', 'cryptogamefi1', 'kinkybedbugs', 'grantyun2', '0xcryptouni', 'ducks_and_leeks', 'lucanetz', 'biquanoldjiucai', 'williamhill888', 'id_aa_carmack', 'hasufl', 'technollama', 'christiankaz_', 'vitalikbuterin', 'crodo_io', 'kolametaverse', 'mojorcom', 'jobsincrypto', 'bxst23', 'linxiaoyin7045', 'spumeio', 'crypto_he', 'soullessl', 'bnbchain', 'sezorock', '934nxrxnw6', 'rareboyapp', 'timshelxyz', 'money_foxx', 'gilbertagain', 'nftgoio', 'bneiluj', 'wuytiuo11', 'wecandaoit', 'officer_cia', 'keyboardmonkey3', 'christianbok', 'interndao', 'publicmaxwell', 'huff_language', 'stride_zone', 'oct0pus_nft', 'secondlife', 'goplussecurity', 'quest3_xyz', 'pyme_team', '0xwatchers', 'hashtag', 'gabrielasalinas', 'caizihhhhh', 'jsondevlin', '0xblasco', 'wagameeth', 'cyberconnecthq', 'lordsamanlight', 'web3grants', 'alexmoss', 'scroll_zkp', 'link3to', 'pudgypenguins', 'cantopunks__', 'the402hq', 'ckbmeta', 'crypto_xyzhou', 'qsxyx8888', 'coinexcom', 'n_ft2021', 'pdxregencommons', 'ethernaal', 'earnairdrop', 'didierra1', 'mayazi', 'arthurzubkoff', 'crew3xyz', 'lidogrants', 'ariesmarkets', 'scopeprotocol', 'sun_xinjin', 'bantg', 'curve_zero', 'flying_piggy1', 'the_bogfather', 'transmissions11', 'syncswap', 'vince_van_dough', 'namadanetwork', '8iqcapital'}\n",
    "'crypto_xyzhou' in x"
   ]
  }
 ],
 "metadata": {
  "kernelspec": {
   "display_name": "Python 3.9.7 ('diamond')",
   "language": "python",
   "name": "python3"
  },
  "language_info": {
   "codemirror_mode": {
    "name": "ipython",
    "version": 3
   },
   "file_extension": ".py",
   "mimetype": "text/x-python",
   "name": "python",
   "nbconvert_exporter": "python",
   "pygments_lexer": "ipython3",
   "version": "3.9.7"
  },
  "orig_nbformat": 4,
  "vscode": {
   "interpreter": {
    "hash": "e06a1096953c92ae0b55c9bcbb4d7ac1cc050726990f16cd72c4b92862418a6f"
   }
  }
 },
 "nbformat": 4,
 "nbformat_minor": 2
}
